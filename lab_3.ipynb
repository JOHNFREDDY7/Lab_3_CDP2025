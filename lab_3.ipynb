{
 "cells": [
  {
   "cell_type": "markdown",
   "metadata": {},
   "source": [
    "# Laboratorio #3"
   ]
  },
  {
   "cell_type": "markdown",
   "metadata": {},
   "source": [
    "### 1. Cree un procedimiento en Python dado un numero entero en decimal despliegue su representacion en numero binario."
   ]
  },
  {
   "cell_type": "code",
   "execution_count": 3,
   "metadata": {},
   "outputs": [
    {
     "name": "stdout",
     "output_type": "stream",
     "text": [
      "El número 10 en binario es: 1010\n"
     ]
    }
   ],
   "source": [
    "def numero_entero_decimal_a_binario(numero: int) -> str:\n",
    "    \"\"\"\n",
    "    Convierte un número entero decimal a su representación en numero binario.\n",
    "    :param numero: Número entero en base 10\n",
    "    :return: Representación binaria del número\n",
    "    \"\"\"\n",
    "    if numero < 0:\n",
    "        raise ValueError(\"El número debe ser un entero positivo.\")\n",
    "    \n",
    "    return bin(numero)[2:]\n",
    "\n",
    "try:\n",
    "    numero = int(input(\"Ingrese un número entero: \"))\n",
    "    print(f\"El número {numero} en binario es: {numero_entero_decimal_a_binario(numero)}\")\n",
    "except ValueError:\n",
    "    print(\"Error: Ingrese un numero entero positivo.\") "
   ]
  },
  {
   "cell_type": "markdown",
   "metadata": {},
   "source": [
    "### 2. Desarrolle en Python una funcion que devuelva verdadero si un numero entero que recibe como parametro es primo y devuelva falso en el caso contrario.\n"
   ]
  },
  {
   "cell_type": "code",
   "execution_count": null,
   "metadata": {},
   "outputs": [
    {
     "name": "stdout",
     "output_type": "stream",
     "text": [
      "¿El número 10 es primo?: False\n"
     ]
    }
   ],
   "source": [
    "def es_primo(numero: int) -> bool:\n",
    "    \"\"\"\n",
    "    Determina si un número es primo.\n",
    "    :param numero: Número entero a evaluar\n",
    "    :return: True si es primo, False en caso contrario\n",
    "    \"\"\"\n",
    "    if numero < 2:\n",
    "        return False\n",
    "    for i in range(2, int(numero ** 0.5) + 1):\n",
    "        if numero % i == 0:\n",
    "            return False\n",
    "    return True\n",
    "\n",
    "# Manejo de excepciones para entrada no válida\n",
    "try:\n",
    "    numero = int(input(\"Ingrese un número entero: \"))\n",
    "    print(f\"¿El número {numero} es primo?: {es_primo(numero)}\")\n",
    "except ValueError:\n",
    "    print(\"Error: Ingrese un número entero positivo válido.\")"
   ]
  },
  {
   "cell_type": "markdown",
   "metadata": {},
   "source": [
    "### 3.  Haga un programa en Python que dada una lista de n numeros, calcule la desviacion estandar del conjunto de numeros, para este ejercicio no puede utilizar ninguna funcion que resuelva el problema.\n"
   ]
  },
  {
   "cell_type": "code",
   "execution_count": 13,
   "metadata": {},
   "outputs": [
    {
     "name": "stdout",
     "output_type": "stream",
     "text": [
      "La desviación estándar es: 0.82915619758885\n"
     ]
    }
   ],
   "source": [
    "def calcular_desviacion_estandar(lista_numeros: list) -> float:\n",
    "    \"\"\"\n",
    "    Calcula la desviación estándar de una lista de números sin usar funciones predefinidas.\n",
    "    :param lista_numeros: Lista de números enteros o flotantes\n",
    "    :return: Desviación estándar de los números\n",
    "    \"\"\"\n",
    "    if not lista_numeros:\n",
    "        raise ValueError(\"La lista no puede estar vacía.\")\n",
    "    \n",
    "    n = len(lista_numeros)\n",
    "    suma = 0\n",
    "    for num in lista_numeros:\n",
    "        suma += num\n",
    "    media = suma / n\n",
    "    \n",
    "    suma_cuadrados = 0\n",
    "    for num in lista_numeros:\n",
    "        suma_cuadrados += (num - media) ** 2\n",
    "    \n",
    "    desviacion_estandar = (suma_cuadrados / n) ** 0.5\n",
    "    return desviacion_estandar\n",
    "\n",
    "# Manejo de excepciones para entrada no válida\n",
    "try:\n",
    "    lista = list(map(float, input(\"Ingrese una lista de números separados por 1 espacio: \").split()))\n",
    "    print(f\"La desviación estándar es: {calcular_desviacion_estandar(lista)}\")\n",
    "except ValueError:\n",
    "    print(\"Error: Ingrese solo números válidos.\")"
   ]
  },
  {
   "cell_type": "markdown",
   "metadata": {},
   "source": [
    "### 4.  Desarrolle en Python una funcion que dado un arreglo, corra el algoritmo de ordenamiento burbuja y devuelva un nuevo arreglo ordenado. Posteriormente cree una funcion main para probar su funcion."
   ]
  },
  {
   "cell_type": "code",
   "execution_count": null,
   "metadata": {},
   "outputs": [
    {
     "name": "stdout",
     "output_type": "stream",
     "text": [
      "Lista ordenada: [2, 2, 3, 4, 4, 6, 6, 8]\n"
     ]
    }
   ],
   "source": [
    "def bubble_sort(arr: list) -> list:\n",
    "    \"\"\"\n",
    "    Corre el algoritmo de ordenamiento burbuja.\n",
    "    :param arr: Lista de números a ordenar\n",
    "    :return: Lista ordenada de menor a mayor\n",
    "    \"\"\"\n",
    "    n = len(arr)\n",
    "    for i in range(n - 1):\n",
    "        for j in range(n - 1 - i):\n",
    "            if arr[j] > arr[j + 1]:\n",
    "                arr[j], arr[j + 1] = arr[j + 1], arr[j]  # Intercambio de valores\n",
    "    return arr\n",
    "\n",
    "\n",
    "def main():\n",
    "    \"\"\"\n",
    "    Función principal para probar el algoritmo de ordenamiento burbuja.\n",
    "    \"\"\"\n",
    "    try:\n",
    "        lista = list(map(int, input(\"Ingrese una lista de números separados por espacio: \").split()))\n",
    "        lista_ordenada = bubble_sort(lista)\n",
    "        print(f\"Lista ordenada: {lista_ordenada}\")\n",
    "    except ValueError:\n",
    "        print(\"Error: Ingrese solo números enteros válidos.\")\n",
    "\n",
    "\n",
    "if __name__ == \"__main__\":\n",
    "    main()\n"
   ]
  },
  {
   "cell_type": "markdown",
   "metadata": {},
   "source": [
    "### 5. Escriba una funcion en Python que dada una tupla de elementos (numeros o letras) esta se convierta a un string. Tomar nota del siguiente ejemplo: Si la entrada fuera: (10, 20, 40, 5, 70). La salida deberıa ser: 102040570"
   ]
  },
  {
   "cell_type": "code",
   "execution_count": 15,
   "metadata": {},
   "outputs": [
    {
     "name": "stdout",
     "output_type": "stream",
     "text": [
      "Entrada: (10, 20, 40, 5, 70)\n",
      "Salida: 102040570\n"
     ]
    }
   ],
   "source": [
    "def tupla_a_string(tupla: tuple) -> str:\n",
    "    \"\"\"\n",
    "    Convierte una tupla de elementos (números o letras) en un string concatenado.\n",
    "    :param tupla: Tupla con elementos de tipo número o cadena\n",
    "    :return: String con la concatenación de los elementos\n",
    "    \"\"\"\n",
    "    return ''.join(map(str, tupla))\n",
    "\n",
    "# Prueba de la función:\n",
    "tupla = (10, 20, 40, 5, 70)\n",
    "resultado = tupla_a_string(tupla)\n",
    "print(f\"Entrada: {tupla}\")\n",
    "print(f\"Salida: {resultado}\")"
   ]
  },
  {
   "cell_type": "markdown",
   "metadata": {},
   "source": [
    "### 6. Cree un programa en Python que dada una lista de tuplas, elimine las tuplas que estan vacıas. Tomar nota del siguiente ejemplo: Si la lista fuera: [(), (), (’X’,), (’a’, ’b’), (’a’, ’b’, ’c’), (’d’)]. El resultado deberıa ser: [(’X’), (’a’, ’b’), (’a’, ’b’, ’c’), ’d’]."
   ]
  },
  {
   "cell_type": "code",
   "execution_count": null,
   "metadata": {},
   "outputs": [
    {
     "name": "stdout",
     "output_type": "stream",
     "text": [
      "Lista original: [(), (), ('X',), ('a', 'b'), ('a', 'b', 'c'), ('d',)]\n",
      "Lista sin tuplas vacías: [('X',), ('a', 'b'), ('a', 'b', 'c'), ('d',)]\n"
     ]
    }
   ],
   "source": [
    "def eliminar_tuplas_vacias(lista_tuplas: list) -> list:\n",
    "    \"\"\"\n",
    "    Elimina las tuplas vacías de una lista de tuplas.\n",
    "    :param lista_tuplas: Lista que contiene tuplas\n",
    "    :return: Lista sin tuplas vacías\n",
    "    \"\"\"\n",
    "    return [t for t in lista_tuplas if t]\n",
    "\n",
    "# Prueba de la función:\n",
    "lista = [(), (), ('X',), ('a', 'b'), ('a', 'b', 'c'), ('d',)]\n",
    "resultado = eliminar_tuplas_vacias(lista)\n",
    "print(f\"Lista original: {lista}\")\n",
    "print(f\"Lista sin tuplas vacías: {resultado}\")"
   ]
  },
  {
   "cell_type": "markdown",
   "metadata": {},
   "source": [
    "### 7.  Cree una funcion en Python que dada una tupla de tuplas con numeros, produzca una tupla con el promedio de cada tupla individual. Tomar nota del siguiente ejemplo: Si la tupla de entrada fuera: ((10, 10, 10, 12), (30, 45, 56, 45), (81, 80, 39, 32)) El resultado deberia ser: (10.5, 44, 58). \n"
   ]
  },
  {
   "cell_type": "code",
   "execution_count": 17,
   "metadata": {},
   "outputs": [
    {
     "name": "stdout",
     "output_type": "stream",
     "text": [
      "Entrada: ((10, 10, 10, 12), (30, 45, 56, 45), (81, 80, 39, 32))\n",
      "Salida: (10.5, 44.0, 58.0)\n"
     ]
    }
   ],
   "source": [
    "def promedio_por_tupla(tuplas: tuple) -> tuple:\n",
    "    \"\"\"\n",
    "    Calcula el promedio de cada tupla dentro de una tupla de tuplas.\n",
    "    :param tuplas: Tupla de tuplas con números\n",
    "    :return: Tupla con los promedios de cada tupla interna\n",
    "    \"\"\"\n",
    "    return tuple(sum(t) / len(t) for t in tuplas if len(t) > 0)\n",
    "\n",
    "# Prueba de la función:\n",
    "tupla_entrada = ((10, 10, 10, 12), (30, 45, 56, 45), (81, 80, 39, 32))\n",
    "resultado = promedio_por_tupla(tupla_entrada)\n",
    "print(f\"Entrada: {tupla_entrada}\")\n",
    "print(f\"Salida: {resultado}\")"
   ]
  },
  {
   "cell_type": "markdown",
   "metadata": {},
   "source": [
    "###  8. El objetivo es crear una representacion de un libro usando programacion orientada a objetos. Debes definir una clase llamada Libro que tenga atributos como el tıtulo, el autor, el numero de paginas y un indicador de si el libro ha sido leıdo o no. Ademas, debes implementar metodos para: Inicializar un nuevo libro con su informacion. Marcar un libro como leıdo. Producir una descripcion legible del libro que incluya todos sus detalles."
   ]
  },
  {
   "cell_type": "code",
   "execution_count": 18,
   "metadata": {},
   "outputs": [
    {
     "name": "stdout",
     "output_type": "stream",
     "text": [
      "Título: Generacion Idiota, Autor: Agustin Laje, Páginas: 400, Estado: No leído\n",
      "Después de marcar como leído:\n",
      "Título: Generacion Idiota, Autor: Agustin Laje, Páginas: 400, Estado: Leído\n"
     ]
    }
   ],
   "source": [
    "class Libro:\n",
    "    \"\"\"\n",
    "    Representa un libro con título, autor, número de páginas y estado de lectura.\n",
    "    \"\"\"\n",
    "    def __init__(self, titulo: str, autor: str, paginas: int):\n",
    "        \"\"\"\n",
    "        Inicializa un libro con su título, autor, número de páginas y estado de lectura.\n",
    "        :param titulo: Nombre del libro\n",
    "        :param autor: Nombre del autor\n",
    "        :param paginas: Cantidad de páginas del libro\n",
    "        \"\"\"\n",
    "        self.titulo = titulo\n",
    "        self.autor = autor\n",
    "        self.paginas = paginas\n",
    "        self.leido = False\n",
    "    \n",
    "    def marcar_como_leido(self):\n",
    "        \"\"\"\n",
    "        Marca el libro como leído.\n",
    "        \"\"\"\n",
    "        self.leido = True\n",
    "    \n",
    "    def descripcion(self) -> str:\n",
    "        \"\"\"\n",
    "        Devuelve una descripción legible del libro.\n",
    "        :return: Cadena con los detalles del libro\n",
    "        \"\"\"\n",
    "        estado = \"Leído\" if self.leido else \"No leído\"\n",
    "        return f\"Título: {self.titulo}, Autor: {self.autor}, Páginas: {self.paginas}, Estado: {estado}\"\n",
    "\n",
    "# Manejo de excepciones y prueba de la clase\n",
    "try:\n",
    "    titulo = input(\"Ingrese el título del libro: \")\n",
    "    autor = input(\"Ingrese el autor del libro: \")\n",
    "    paginas = int(input(\"Ingrese el número de páginas: \"))\n",
    "    \n",
    "    libro = Libro(titulo, autor, paginas)\n",
    "    print(libro.descripcion())\n",
    "    \n",
    "    libro.marcar_como_leido()\n",
    "    print(\"Después de marcar como leído:\")\n",
    "    print(libro.descripcion())\n",
    "    \n",
    "except ValueError:\n",
    "    print(\"Error: Ingrese un número válido para las páginas.\")"
   ]
  },
  {
   "cell_type": "markdown",
   "metadata": {},
   "source": [
    "### 9.  Cree una clase llamada Circulo con un atributo para el radio del cırculo. Luego, implementaras metodos para: Inicializar un nuevo circulo con su radio. Calcular el area del circulo. Calcular la circunferencia del circulo."
   ]
  },
  {
   "cell_type": "code",
   "execution_count": null,
   "metadata": {},
   "outputs": [
    {
     "name": "stdout",
     "output_type": "stream",
     "text": [
      "Área del círculo: 314.16\n",
      "Circunferencia del círculo: 62.83\n"
     ]
    }
   ],
   "source": [
    "import math\n",
    "\n",
    "class Circulo:\n",
    "    \"\"\"\n",
    "    Esta clase representa un círculo con un radio específico.\n",
    "    \n",
    "    Atributos:\n",
    "        radio (float): El radio del círculo.\n",
    "    \n",
    "    Métodos:\n",
    "        __init__(self, radio): Inicializa un nuevo objeto Circulo con un radio.\n",
    "        calcular_area(self): Calcula el área del círculo.\n",
    "        calcular_circunferencia(self): Calcula la circunferencia del círculo.\n",
    "    \"\"\"\n",
    "    \n",
    "    def __init__(self, radio):\n",
    "        \"\"\"\n",
    "        Inicializa un nuevo círculo con un radio.\n",
    "\n",
    "        Parámetros:\n",
    "            radio (float): El radio del círculo.\n",
    "        \n",
    "        Excepciones:\n",
    "            ValueError: Si el radio es negativo o no es un número válido.\n",
    "        \"\"\"\n",
    "        try:\n",
    "            if radio <= 0:\n",
    "                raise ValueError(\"El radio debe ser un número positivo.\")\n",
    "            self.radio = radio\n",
    "        except TypeError:\n",
    "            raise ValueError(\"El radio debe ser un número válido.\")\n",
    "\n",
    "    def calcular_area(self):\n",
    "        \"\"\"\n",
    "        Calcula el área del círculo utilizando la fórmula: área = π * radio².\n",
    "\n",
    "        Retorna:\n",
    "            float: El área del círculo.\n",
    "        \"\"\"\n",
    "        try:\n",
    "            area = math.pi * (self.radio ** 2)\n",
    "            return area\n",
    "        except Exception as e:\n",
    "            raise Exception(f\"Error al calcular el área: {e}\")\n",
    "\n",
    "    def calcular_circunferencia(self):\n",
    "        \"\"\"\n",
    "        Calcula la circunferencia del círculo utilizando la fórmula: circunferencia = 2 * π * radio.\n",
    "\n",
    "        Retorna:\n",
    "            float: La circunferencia del círculo.\n",
    "        \"\"\"\n",
    "        try:\n",
    "            circunferencia = 2 * math.pi * self.radio\n",
    "            return circunferencia\n",
    "        except Exception as e:\n",
    "            raise Exception(f\"Error al calcular la circunferencia: {e}\")\n",
    "\n",
    "\n",
    "# Primer ejemplo: \n",
    "try:\n",
    "    # Crear un objeto Circulo con radio 10 (Modificar el radio aqui)\n",
    "    mi_circulo = Circulo(10)\n",
    "    print(f\"Área del círculo: {mi_circulo.calcular_area():.2f}\")\n",
    "    print(f\"Circunferencia del círculo: {mi_circulo.calcular_circunferencia():.2f}\")\n",
    "except ValueError as e:\n",
    "    print(f\"Error: {e}\")\n",
    "except Exception as e:\n",
    "    print(f\"Ha ocurrido un error inesperado: {e}\")"
   ]
  }
 ],
 "metadata": {
  "kernelspec": {
   "display_name": "venv_prueba",
   "language": "python",
   "name": "python3"
  },
  "language_info": {
   "codemirror_mode": {
    "name": "ipython",
    "version": 3
   },
   "file_extension": ".py",
   "mimetype": "text/x-python",
   "name": "python",
   "nbconvert_exporter": "python",
   "pygments_lexer": "ipython3",
   "version": "3.9.21"
  }
 },
 "nbformat": 4,
 "nbformat_minor": 2
}
