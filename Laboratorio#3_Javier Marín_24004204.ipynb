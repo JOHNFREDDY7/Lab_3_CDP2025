{
 "cells": [
  {
   "cell_type": "markdown",
   "metadata": {},
   "source": [
    "#### Jose Javier Marín Cruz Carné: 24004204\n",
    "## Laboratorio #3"
   ]
  },
  {
   "cell_type": "markdown",
   "metadata": {},
   "source": [
    "## Problema 1\n",
    "1. Cree un procedimiento en Python dado un n´umero entero en decimal despliegue su representaci´on en n´umero binario."
   ]
  },
  {
   "cell_type": "code",
   "execution_count": 15,
   "metadata": {},
   "outputs": [],
   "source": [
    "def binario(numero:int):\n",
    "    resultado = \"\"\n",
    "\n",
    "    if numero == 0:\n",
    "        resultado = \"0\"\n",
    "\n",
    "    while numero > 0:\n",
    "        resultado = str(numero%2)+resultado\n",
    "        numero = numero // 2\n",
    "    return resultado"
   ]
  },
  {
   "cell_type": "code",
   "execution_count": null,
   "metadata": {},
   "outputs": [
    {
     "data": {
      "text/plain": [
       "'1100'"
      ]
     },
     "execution_count": 17,
     "metadata": {},
     "output_type": "execute_result"
    }
   ],
   "source": [
    "binario(12)"
   ]
  },
  {
   "cell_type": "markdown",
   "metadata": {},
   "source": [
    "## Problema 2\n",
    "2. Desarrolle en Python una funci´on que devuelva verdadero si un n´umero entero que recibe\n",
    "como par´ametro es primo y devuelva falso en el caso contrario."
   ]
  },
  {
   "cell_type": "code",
   "execution_count": 2,
   "metadata": {},
   "outputs": [],
   "source": [
    "def primo(numero:int):\n",
    "    es_primo = True\n",
    "    if numero < 2:\n",
    "        return False\n",
    "    \n",
    "    for n in range(2, numero):\n",
    "        if numero % n == 0:\n",
    "            es_primo = False\n",
    "    return es_primo"
   ]
  },
  {
   "cell_type": "code",
   "execution_count": 18,
   "metadata": {},
   "outputs": [
    {
     "data": {
      "text/plain": [
       "True"
      ]
     },
     "execution_count": 18,
     "metadata": {},
     "output_type": "execute_result"
    }
   ],
   "source": [
    "primo(31)"
   ]
  },
  {
   "cell_type": "markdown",
   "metadata": {},
   "source": [
    "## Problema 3\n",
    "3. Haga un programa en Python que dada una lista de n n´umeros, calcule la desviaci´on est´andar\n",
    "del conjunto de n´umeros, para este ejercicio no puede utilizar ninguna funci´on que resuelva\n",
    "el problema.\n"
   ]
  },
  {
   "cell_type": "code",
   "execution_count": 4,
   "metadata": {},
   "outputs": [],
   "source": [
    "def desviacion_estandar(lista:list):\n",
    "    suma = sum(lista)\n",
    "    n = len(lista)\n",
    "    media = suma/n\n",
    "    cuadrados = sum([(i - media)**2 for i in lista])\n",
    "    desv_est = (cuadrados/n)**(1/2)\n",
    "    return desv_est"
   ]
  },
  {
   "cell_type": "code",
   "execution_count": 19,
   "metadata": {},
   "outputs": [
    {
     "data": {
      "text/plain": [
       "2.8722813232690143"
      ]
     },
     "execution_count": 19,
     "metadata": {},
     "output_type": "execute_result"
    }
   ],
   "source": [
    "desviacion_estandar([1,2,3,4,5,6,7,8,9,10])"
   ]
  },
  {
   "cell_type": "markdown",
   "metadata": {},
   "source": [
    "## Problema 4\n",
    "4. Desarrolle en Python una funci´on que dado un arreglo de corra el algoritmo de ordenamiento\n",
    "burbuja y devuelva un nuevo arreglo ordenado. Posteriormente cree una funci´on main para\n",
    "probar su funci´on.\n"
   ]
  },
  {
   "cell_type": "code",
   "execution_count": 14,
   "metadata": {},
   "outputs": [
    {
     "name": "stdout",
     "output_type": "stream",
     "text": [
      "Arreglo ordenado: [21, 30, 43, 55, 56, 61, 76, 80, 88, 95]\n"
     ]
    }
   ],
   "source": [
    "def burbuja(arreglo):\n",
    "    n = len(arreglo)\n",
    "    for i in range(n):\n",
    "        intercambio = False\n",
    "        for j in range(0, n - i - 1):\n",
    "            if arreglo[j] > arreglo[j + 1]:\n",
    "                arreglo[j], arreglo[j + 1] = arreglo[j + 1], arreglo[j]\n",
    "                intercambio = True\n",
    "        if not intercambio:\n",
    "            break\n",
    "    return arreglo\n",
    "\n",
    "def main():\n",
    "    arreglo=[61, 55, 43, 76, 21, 80, 56, 95, 88, 30]\n",
    "    arreglo_ordenado = burbuja(arreglo)\n",
    "    print(\"Arreglo ordenado:\", arreglo_ordenado)\n",
    "main()"
   ]
  },
  {
   "cell_type": "markdown",
   "metadata": {},
   "source": [
    "## Problema 5\n",
    "5. Escriba una funci´on en Python que dada una tupla de elementos (numeros o letras) esta se\n",
    "convierta a un string. \n",
    "\n",
    "Tomar nota del siguiente ejemplo:\n",
    "* Si la entrada fuera: (10, 20, 40, 5, 70)\n",
    "* La salida deber´ıa ser: 102040570"
   ]
  },
  {
   "cell_type": "code",
   "execution_count": 5,
   "metadata": {},
   "outputs": [],
   "source": [
    "def tupla_toString(tupla:tuple):\n",
    "    string = ''.join(str(i) for i in tupla)\n",
    "    return string"
   ]
  },
  {
   "cell_type": "code",
   "execution_count": 20,
   "metadata": {},
   "outputs": [
    {
     "data": {
      "text/plain": [
       "'102040570'"
      ]
     },
     "execution_count": 20,
     "metadata": {},
     "output_type": "execute_result"
    }
   ],
   "source": [
    "tupla_toString((10,20,40,5,70))"
   ]
  },
  {
   "cell_type": "markdown",
   "metadata": {},
   "source": [
    "## Problema 6\n",
    "6. Cree un programa en Python que dada una lista de tuplas, elimine las tuplas que est´an vac´ıas.\n",
    "\n",
    "Tomar nota del siguiente ejemplo:\n",
    "* Si la lista fuera: [(), (), (’X’,), (’a’, ’b’), (’a’, ’b’, ’c’), (’d’)]\n",
    "* El resultado deber´ıa ser: [(’X’), (’a’, ’b’), (’a’, ’b’, ’c’), ’d’]"
   ]
  },
  {
   "cell_type": "code",
   "execution_count": 8,
   "metadata": {},
   "outputs": [],
   "source": [
    "def eliminar_blanks(lista:list):\n",
    "    eliminar_blanks = [i for i in lista if i]\n",
    "    return eliminar_blanks"
   ]
  },
  {
   "cell_type": "code",
   "execution_count": 21,
   "metadata": {},
   "outputs": [
    {
     "data": {
      "text/plain": [
       "[('X',), ('a', 'b'), ('a', 'b', 'c'), 'd']"
      ]
     },
     "execution_count": 21,
     "metadata": {},
     "output_type": "execute_result"
    }
   ],
   "source": [
    "eliminar_blanks([(), (), (\"X\",), (\"a\", \"b\"), (\"a\", \"b\", \"c\"), (\"d\")])"
   ]
  },
  {
   "cell_type": "markdown",
   "metadata": {},
   "source": [
    "## Problema 7\n",
    "7. Cree una funci´on en Python que dada una tupla de tuplas con numeros, produzca una tupla\n",
    "con el promedio de cada tupla individual. Tomar nota del siguiente ejemplo:\n",
    "* Si la tupla de entrada fuera: ((10, 10, 10, 12), (30, 45, 56, 45), (81, 80, 39, 32))\n",
    "* El resultado deber´ıa ser: (10.5, 44, 58)\n"
   ]
  },
  {
   "cell_type": "code",
   "execution_count": 9,
   "metadata": {},
   "outputs": [],
   "source": [
    "def promedio_tuplas(*tupla:tuple):\n",
    "    promedios = tuple(sum(i) / len(i) for i in tupla)\n",
    "    return promedios"
   ]
  },
  {
   "cell_type": "code",
   "execution_count": 22,
   "metadata": {},
   "outputs": [
    {
     "data": {
      "text/plain": [
       "(10.5, 44.0, 58.0)"
      ]
     },
     "execution_count": 22,
     "metadata": {},
     "output_type": "execute_result"
    }
   ],
   "source": [
    "promedio_tuplas((10, 10, 10, 12), (30, 45, 56, 45), (81, 80, 39, 32))"
   ]
  },
  {
   "cell_type": "markdown",
   "metadata": {},
   "source": [
    "## Problema 8\n",
    "8. El objetivo es crear una representaci´on de un libro usando programaci´on orientada a objetos.\n",
    "Debes definir una clase llamada Libro que tenga atributos como el t´ıtulo, el autor, el n´umero\n",
    "de p´aginas y un indicador de si el libro ha sido le´ıdo o no. Adem´as, debes implementar m´etodos\n",
    "para:\n",
    "* Inicializar un nuevo libro con su informaci´on.\n",
    "* Marcar un libro como le´ıdo.\n",
    "* Producir una descripci´on legible del libro que incluya todos sus detalles.\n"
   ]
  },
  {
   "cell_type": "code",
   "execution_count": 10,
   "metadata": {},
   "outputs": [],
   "source": [
    "class Libro():\n",
    "    def __init__(self, titulo, autor, paginas, leido):\n",
    "        self.titulo_libro = titulo\n",
    "        self.autor_libro = autor\n",
    "        self.paginas_libro = paginas\n",
    "        self.libro_leido = leido\n",
    "    \n",
    "    def atributos(self):\n",
    "        print(\"Descripción del libro\")\n",
    "        print(f\"Título: {self.titulo_libro}\")\n",
    "        print(f\"Autor: {self.autor_libro}\")\n",
    "        print(f\"Páginas: {self.paginas_libro}\")\n",
    "        if (self.libro_leido == True):\n",
    "            print(\"Leído: Sí\")\n",
    "        else:\n",
    "            print(\"Leído: No\")\n",
    "\n",
    "    def leido(self):\n",
    "        self.libro_leido = True\n",
    "        print(f\"El libro '{self.titulo_libro}' ha sido marcado como leído.\")\n",
    "\n",
    "    def noLeido(self):\n",
    "        self.libro_leido = False\n",
    "        print(f\"El libro '{self.titulo_libro}' ha sido marcado como NO leído.\")"
   ]
  },
  {
   "cell_type": "code",
   "execution_count": 23,
   "metadata": {},
   "outputs": [],
   "source": [
    "libro1 = Libro(titulo=\"Cien años de soledad\", autor=\"Gabriel García Márquez\", paginas=417, leido=False)\n",
    "libro2 = Libro(titulo=\"1984\", autor=\"George Orwell\", paginas=328, leido=False)\n",
    "libro3 = Libro(titulo=\"El alquimista\", autor=\"Paulo Coelho\", paginas=208, leido=False)"
   ]
  },
  {
   "cell_type": "code",
   "execution_count": 24,
   "metadata": {},
   "outputs": [
    {
     "name": "stdout",
     "output_type": "stream",
     "text": [
      "Descripción del libro\n",
      "Título: Cien años de soledad\n",
      "Autor: Gabriel García Márquez\n",
      "Páginas: 417\n",
      "Leído: No\n"
     ]
    }
   ],
   "source": [
    "libro1.atributos()"
   ]
  },
  {
   "cell_type": "code",
   "execution_count": 25,
   "metadata": {},
   "outputs": [
    {
     "name": "stdout",
     "output_type": "stream",
     "text": [
      "El libro 'Cien años de soledad' ha sido marcado como leído.\n"
     ]
    }
   ],
   "source": [
    "libro1.leido()"
   ]
  },
  {
   "cell_type": "code",
   "execution_count": 26,
   "metadata": {},
   "outputs": [
    {
     "name": "stdout",
     "output_type": "stream",
     "text": [
      "El libro 'Cien años de soledad' ha sido marcado como NO leído.\n"
     ]
    }
   ],
   "source": [
    "libro1.noLeido()"
   ]
  },
  {
   "cell_type": "markdown",
   "metadata": {},
   "source": [
    "## Problema 9 \n",
    "9. Cree una clase llamada Circulo con un atributo para el radio del c´ırculo. Luego, implementar´as\n",
    "m´etodos para:\n",
    "\n",
    "Inicializar un nuevo c´ırculo con su radio.\n",
    "* Calcular el ´area del c´ırculo.\n",
    "* Calcular la circunferencia del c´ırculo.\n"
   ]
  },
  {
   "cell_type": "code",
   "execution_count": 11,
   "metadata": {},
   "outputs": [],
   "source": [
    "import math\n",
    "\n",
    "class Circulo ():\n",
    "    def __init__(self, radio):\n",
    "        self.radio_circulo = radio\n",
    "\n",
    "    def area (self):\n",
    "        area_circulo = round((math.pi) * self.radio_circulo**2,4)\n",
    "        area_pi = round(self.radio_circulo**2,4)\n",
    "        print(f\"El área del círculo con radio {self.radio_circulo} es: {area_circulo}, o {area_pi}π\")\n",
    "    \n",
    "    def circunferencia(self):\n",
    "        circunferencia_circulo = round((2*math.pi*self.radio_circulo),4)\n",
    "        circunferencia_pi = round(2*self.radio_circulo,4)\n",
    "        print(f\"La circunferencia del círculo con radio {self.radio_circulo} es: {circunferencia_circulo}, o {circunferencia_pi}π\")"
   ]
  },
  {
   "cell_type": "code",
   "execution_count": 27,
   "metadata": {},
   "outputs": [
    {
     "name": "stdout",
     "output_type": "stream",
     "text": [
      "El área del círculo con radio 5 es: 78.5398, o 25π\n",
      "La circunferencia del círculo con radio 5 es: 31.4159, o 10π\n"
     ]
    }
   ],
   "source": [
    "circulo1 = Circulo(5)\n",
    "circulo1.area()\n",
    "circulo1.circunferencia()"
   ]
  }
 ],
 "metadata": {
  "kernelspec": {
   "display_name": "venv_ugal_test",
   "language": "python",
   "name": "python3"
  },
  "language_info": {
   "codemirror_mode": {
    "name": "ipython",
    "version": 3
   },
   "file_extension": ".py",
   "mimetype": "text/x-python",
   "name": "python",
   "nbconvert_exporter": "python",
   "pygments_lexer": "ipython3",
   "version": "3.12.8"
  }
 },
 "nbformat": 4,
 "nbformat_minor": 2
}
